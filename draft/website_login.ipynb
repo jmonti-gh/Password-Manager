{
 "cells": [
  {
   "cell_type": "markdown",
   "metadata": {},
   "source": [
    "# Login using Selenium and pmcore own lib"
   ]
  },
  {
   "cell_type": "code",
   "execution_count": 2,
   "metadata": {},
   "outputs": [
    {
     "data": {
      "text/html": [
       "<div>\n",
       "<style scoped>\n",
       "    .dataframe tbody tr th:only-of-type {\n",
       "        vertical-align: middle;\n",
       "    }\n",
       "\n",
       "    .dataframe tbody tr th {\n",
       "        vertical-align: top;\n",
       "    }\n",
       "\n",
       "    .dataframe thead th {\n",
       "        text-align: right;\n",
       "    }\n",
       "</style>\n",
       "<table border=\"1\" class=\"dataframe\">\n",
       "  <thead>\n",
       "    <tr style=\"text-align: right;\">\n",
       "      <th></th>\n",
       "      <th>Service</th>\n",
       "      <th>Notes</th>\n",
       "      <th>date_time</th>\n",
       "    </tr>\n",
       "  </thead>\n",
       "  <tbody>\n",
       "    <tr>\n",
       "      <th>0</th>\n",
       "      <td>!csd</td>\n",
       "      <td>First row</td>\n",
       "      <td>2023-10-23 23:30:47.772080</td>\n",
       "    </tr>\n",
       "    <tr>\n",
       "      <th>1</th>\n",
       "      <td>realpython.com</td>\n",
       "      <td></td>\n",
       "      <td>2023-10-23 23:32:24.051470</td>\n",
       "    </tr>\n",
       "    <tr>\n",
       "      <th>2</th>\n",
       "      <td>reedit.com</td>\n",
       "      <td>dlthub.com</td>\n",
       "      <td>2023-10-23 23:33:20.170150</td>\n",
       "    </tr>\n",
       "  </tbody>\n",
       "</table>\n",
       "</div>"
      ],
      "text/plain": [
       "          Service       Notes                  date_time\n",
       "0            !csd   First row 2023-10-23 23:30:47.772080\n",
       "1  realpython.com             2023-10-23 23:32:24.051470\n",
       "2      reedit.com  dlthub.com 2023-10-23 23:33:20.170150"
      ]
     },
     "metadata": {},
     "output_type": "display_data"
    }
   ],
   "source": [
    "# pypi libs\n",
    "from selenium import webdriver\n",
    "import pmcore as pmc\n",
    "#print(webdriver.__version__)    # 4.12\n",
    "\n",
    "pmc1 = pmc.PmTable('''¡Argentina Campeón del Mundo 2022! - Tres campeonatos mundiales: 1978(Kempes), 1986('El Diego'), 2022(Messi).''')\n",
    "display(pmc1.get_tbl())\n",
    "\n",
    "\n",
    "# drv.get('https://google.com')\n"
   ]
  },
  {
   "cell_type": "code",
   "execution_count": 4,
   "metadata": {},
   "outputs": [
    {
     "name": "stdout",
     "output_type": "stream",
     "text": [
      "jperez_pwdmgr The_2nd_Pwd\n"
     ]
    }
   ],
   "source": [
    "## Get user and password\n",
    "srvc = input('Inter Service to login: ')\n",
    "try:\n",
    "    usr, pwd = pmc1.get_pwd(srvc)\n",
    "except Exception as e:\n",
    "    print(f'Error: {e}')\n",
    "else:\n",
    "    print(usr, pwd)"
   ]
  },
  {
   "cell_type": "code",
   "execution_count": null,
   "metadata": {},
   "outputs": [],
   "source": []
  },
  {
   "cell_type": "code",
   "execution_count": null,
   "metadata": {},
   "outputs": [],
   "source": []
  },
  {
   "cell_type": "code",
   "execution_count": null,
   "metadata": {},
   "outputs": [],
   "source": [
    "opts = webdriver.ChromeOptions()\n",
    "opts.add_experimental_option(\"detach\", True)\n",
    "drv = webdriver.Chrome(options=opts)"
   ]
  },
  {
   "cell_type": "code",
   "execution_count": null,
   "metadata": {},
   "outputs": [],
   "source": []
  }
 ],
 "metadata": {
  "kernelspec": {
   "display_name": "Python 3",
   "language": "python",
   "name": "python3"
  },
  "language_info": {
   "codemirror_mode": {
    "name": "ipython",
    "version": 3
   },
   "file_extension": ".py",
   "mimetype": "text/x-python",
   "name": "python",
   "nbconvert_exporter": "python",
   "pygments_lexer": "ipython3",
   "version": "3.11.0"
  }
 },
 "nbformat": 4,
 "nbformat_minor": 2
}
