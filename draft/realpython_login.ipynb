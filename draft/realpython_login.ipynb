{
 "cells": [
  {
   "cell_type": "markdown",
   "metadata": {},
   "source": []
  },
  {
   "cell_type": "code",
   "execution_count": 1,
   "metadata": {},
   "outputs": [
    {
     "data": {
      "text/html": [
       "<div>\n",
       "<style scoped>\n",
       "    .dataframe tbody tr th:only-of-type {\n",
       "        vertical-align: middle;\n",
       "    }\n",
       "\n",
       "    .dataframe tbody tr th {\n",
       "        vertical-align: top;\n",
       "    }\n",
       "\n",
       "    .dataframe thead th {\n",
       "        text-align: right;\n",
       "    }\n",
       "</style>\n",
       "<table border=\"1\" class=\"dataframe\">\n",
       "  <thead>\n",
       "    <tr style=\"text-align: right;\">\n",
       "      <th></th>\n",
       "      <th>Service</th>\n",
       "      <th>Notes</th>\n",
       "      <th>date_time</th>\n",
       "    </tr>\n",
       "  </thead>\n",
       "  <tbody>\n",
       "    <tr>\n",
       "      <th>0</th>\n",
       "      <td>!csd</td>\n",
       "      <td>First row</td>\n",
       "      <td>2023-10-23 23:30:47.772080</td>\n",
       "    </tr>\n",
       "    <tr>\n",
       "      <th>1</th>\n",
       "      <td>realpython.com</td>\n",
       "      <td></td>\n",
       "      <td>2023-10-23 23:32:24.051470</td>\n",
       "    </tr>\n",
       "    <tr>\n",
       "      <th>2</th>\n",
       "      <td>reedit.com</td>\n",
       "      <td>dlthub.com</td>\n",
       "      <td>2023-10-23 23:33:20.170150</td>\n",
       "    </tr>\n",
       "  </tbody>\n",
       "</table>\n",
       "</div>"
      ],
      "text/plain": [
       "          Service       Notes                  date_time\n",
       "0            !csd   First row 2023-10-23 23:30:47.772080\n",
       "1  realpython.com             2023-10-23 23:32:24.051470\n",
       "2      reedit.com  dlthub.com 2023-10-23 23:33:20.170150"
      ]
     },
     "metadata": {},
     "output_type": "display_data"
    }
   ],
   "source": [
    "# pypi libs\n",
    "from selenium import webdriver\n",
    "from selenium.webdriver.common.by import By\n",
    "\n",
    "# own module\n",
    "import pmcore as pmc\n",
    "#print(webdriver.__version__)    # 4.12\n",
    "\n",
    "pmc1 = pmc.PmTable('''¡Argentina Campeón del Mundo 2022! - Tres campeonatos mundiales: 1978(Kempes), 1986('El Diego'), 2022(Messi).''')\n",
    "display(pmc1.get_tbl())"
   ]
  },
  {
   "cell_type": "code",
   "execution_count": 2,
   "metadata": {},
   "outputs": [
    {
     "name": "stdout",
     "output_type": "stream",
     "text": [
      "jperez.pwdmgr@gmail.com At_least_8_chars\n"
     ]
    }
   ],
   "source": [
    "## Login Credentials for realpython.com\n",
    "usr, pwd = pmc1.get_pwd('realpython.com')\n",
    "print(usr, pwd)"
   ]
  },
  {
   "cell_type": "code",
   "execution_count": 3,
   "metadata": {},
   "outputs": [],
   "source": [
    "## Open the web site\n",
    "opts = webdriver.ChromeOptions()\n",
    "opts.add_experimental_option(\"detach\", True)\n",
    "drv = webdriver.Chrome(options=opts)\n",
    "drv.get('https://www.realpython.com')\n",
    "drv.maximize_window()"
   ]
  },
  {
   "cell_type": "markdown",
   "metadata": {},
   "source": [
    "## Select login\n",
    "- <a class=\"btn text-light\" href=\"/account/login/?next=%2F\">Sign‑In</a>"
   ]
  },
  {
   "cell_type": "code",
   "execution_count": 4,
   "metadata": {},
   "outputs": [],
   "source": [
    "drv.find_element(By.XPATH, value='//a[@href=\"/account/login/?next=%2F\"]').click()"
   ]
  },
  {
   "cell_type": "markdown",
   "metadata": {},
   "source": [
    "## Email\n",
    "<input type=\"email\" name=\"login\" placeholder=\"\" autocomplete=\"email\" maxlength=\"320\" autofocus=\"autofocus\" class=\"textinput form-control\" required=\"\" id=\"id_login\">"
   ]
  },
  {
   "cell_type": "code",
   "execution_count": 5,
   "metadata": {},
   "outputs": [],
   "source": [
    "email = drv.find_element(By.ID, \"id_login\")\n",
    "email.send_keys(usr)"
   ]
  },
  {
   "cell_type": "markdown",
   "metadata": {},
   "source": [
    "## Password\n",
    "<input type=\"password\" name=\"password\" placeholder=\"\" autocomplete=\"current-password\" minlength=\"8\" maxlength=\"99\" class=\"passwordinput form-control\" required=\"\" id=\"id_password\">"
   ]
  },
  {
   "cell_type": "code",
   "execution_count": 8,
   "metadata": {},
   "outputs": [],
   "source": [
    "password = drv.find_element(By.ID, \"id_password\")\n",
    "password.send_keys(pwd)"
   ]
  },
  {
   "cell_type": "markdown",
   "metadata": {},
   "source": [
    "## Sign-In button\n",
    "<button type=\"submit\" class=\"btn btn-primary btn-lg text-wrap px-5 mt-2 w-100\" name=\"jsSubmitButton\">Sign-In</button>"
   ]
  },
  {
   "cell_type": "code",
   "execution_count": null,
   "metadata": {},
   "outputs": [],
   "source": [
    "#drv.find_element(By.XPATH, value='//button[@name=\"jsSubmitButton\"]').click()"
   ]
  },
  {
   "cell_type": "code",
   "execution_count": 9,
   "metadata": {},
   "outputs": [],
   "source": [
    "drv.find_element(By.NAME, \"jsSubmitButton\").click()"
   ]
  }
 ],
 "metadata": {
  "kernelspec": {
   "display_name": "Python 3",
   "language": "python",
   "name": "python3"
  },
  "language_info": {
   "codemirror_mode": {
    "name": "ipython",
    "version": 3
   },
   "file_extension": ".py",
   "mimetype": "text/x-python",
   "name": "python",
   "nbconvert_exporter": "python",
   "pygments_lexer": "ipython3",
   "version": "3.11.0"
  }
 },
 "nbformat": 4,
 "nbformat_minor": 2
}
