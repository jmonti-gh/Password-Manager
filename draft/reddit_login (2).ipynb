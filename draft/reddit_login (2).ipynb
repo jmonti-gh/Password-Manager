{
 "cells": [
  {
   "cell_type": "markdown",
   "metadata": {},
   "source": [
    "# reddit login"
   ]
  },
  {
   "cell_type": "code",
   "execution_count": 1,
   "metadata": {},
   "outputs": [
    {
     "ename": "ModuleNotFoundError",
     "evalue": "No module named 'pmcore'",
     "output_type": "error",
     "traceback": [
      "\u001b[1;31m---------------------------------------------------------------------------\u001b[0m",
      "\u001b[1;31mModuleNotFoundError\u001b[0m                       Traceback (most recent call last)",
      "\u001b[1;32mc:\\Users\\jm\\git_repos\\Password-Manager_w-Pandas\\draft\\reddit_login.ipynb Cell 2\u001b[0m line \u001b[0;36m5\n\u001b[0;32m      <a href='vscode-notebook-cell:/c%3A/Users/jm/git_repos/Password-Manager_w-Pandas/draft/reddit_login.ipynb#W2sZmlsZQ%3D%3D?line=2'>3</a>\u001b[0m \u001b[39mfrom\u001b[39;00m \u001b[39mselenium\u001b[39;00m\u001b[39m.\u001b[39;00m\u001b[39mwebdriver\u001b[39;00m\u001b[39m.\u001b[39;00m\u001b[39mcommon\u001b[39;00m\u001b[39m.\u001b[39;00m\u001b[39mby\u001b[39;00m \u001b[39mimport\u001b[39;00m By\n\u001b[0;32m      <a href='vscode-notebook-cell:/c%3A/Users/jm/git_repos/Password-Manager_w-Pandas/draft/reddit_login.ipynb#W2sZmlsZQ%3D%3D?line=3'>4</a>\u001b[0m \u001b[39m# own module\u001b[39;00m\n\u001b[1;32m----> <a href='vscode-notebook-cell:/c%3A/Users/jm/git_repos/Password-Manager_w-Pandas/draft/reddit_login.ipynb#W2sZmlsZQ%3D%3D?line=4'>5</a>\u001b[0m \u001b[39mimport\u001b[39;00m \u001b[39mpmcore\u001b[39;00m \u001b[39mas\u001b[39;00m \u001b[39mpmc\u001b[39;00m\n\u001b[0;32m      <a href='vscode-notebook-cell:/c%3A/Users/jm/git_repos/Password-Manager_w-Pandas/draft/reddit_login.ipynb#W2sZmlsZQ%3D%3D?line=5'>6</a>\u001b[0m \u001b[39m## Universal vars:\u001b[39;00m\n\u001b[0;32m      <a href='vscode-notebook-cell:/c%3A/Users/jm/git_repos/Password-Manager_w-Pandas/draft/reddit_login.ipynb#W2sZmlsZQ%3D%3D?line=6'>7</a>\u001b[0m src \u001b[39m=\u001b[39m \u001b[39m'\u001b[39m\u001b[39mreddit\u001b[39m\u001b[39m'\u001b[39m\n",
      "\u001b[1;31mModuleNotFoundError\u001b[0m: No module named 'pmcore'"
     ]
    }
   ],
   "source": [
    "# pypi Libs\n",
    "from selenium import webdriver\n",
    "from selenium.webdriver.common.by import By\n",
    "# own module\n",
    "import pmcore as pmc\n",
    "## Universal vars:\n",
    "src = 'reddit'\n",
    "passphrase = \"1978, 1986, and 2022 FIFA Champ!\"\n",
    "\n",
    "pmt = pmc.PmTable(passphrase)\n",
    "usr = pmt.get_usr(src)\n",
    "pwd = pmt.get_pwd(src)[0]\n",
    "url = pmt.get_url(src)\n",
    "\n",
    "## Open and max the website allowing it to remain open when scrip is closed\n",
    "opts = webdriver.ChromeOptions()                # Use chrome\n",
    "opts.add_experimental_option(\"detach\", True)\n",
    "drv = webdriver.Chrome(options=opts)\n",
    "drv.implicitly_wait(9)\n",
    "drv.get(url)\n",
    "drv.maximize_window()"
   ]
  },
  {
   "cell_type": "markdown",
   "metadata": {},
   "source": [
    "`<span class=\"flex items-center gap-xs\">Log In</span>`"
   ]
  },
  {
   "cell_type": "code",
   "execution_count": null,
   "metadata": {},
   "outputs": [],
   "source": [
    "#drv.find_element(By.XPATH, value='//span[@class=\"flex items-center gap-xs\"]').click()\n",
    "drv.find_element(By.XPATH, value='//span[text()=\"Log In\"]').click()"
   ]
  },
  {
   "cell_type": "markdown",
   "metadata": {},
   "source": [
    "- `<input class=\"m-0 p-0 w-full text-neutral-content-strong outline-none bg-transparent border-none font-sans text-16\" id=\"login-username\" type=\"text\" name=\"username\" required=\"\" autocomplete=\"username\">`\n",
    "- `<input class=\"m-0 p-0 w-full text-neutral-content-strong outline-none bg-transparent border-none font-sans text-16\" id=\"login-password\" type=\"password\" name=\"password\" required=\"\" autocomplete=\"current-password\">`\n",
    "- `<faceplate-tracker data-faceplate-tracking-context=\"{&quot;popup&quot;:{&quot;button_text&quot;:&quot;login&quot;}}\" source=\"onboarding\" action=\"click\" noun=\"login\">\n",
    "        <button rpl=\"\" disabled=\"\" class=\"login w-100\n",
    "button-large px-[length:var(--rem14)]\n",
    "button-brand\n",
    "\n",
    "\n",
    "\n",
    "button inline-flex items-center justify-center \" type=\"button\">\n",
    "      <span class=\"flex items-center justify-center\">\n",
    "      \n",
    "      <span class=\"flex items-center gap-xs\">Log In</span>\n",
    "    </span>\n",
    "    \n",
    "    \n",
    "    </button>\n",
    "      <!----></faceplate-tracker>`\n",
    "- `<button rpl=\"\" class=\"login w-100\n",
    "button-large px-[length:var(--rem14)]\n",
    "button-brand\n",
    "\n",
    "\n",
    "\n",
    "button inline-flex items-center justify-center \" type=\"button\">\n",
    "      <span class=\"flex items-center justify-center\">\n",
    "      \n",
    "      <span class=\"flex items-center gap-xs\">Log In</span>\n",
    "    </span>\n",
    "    \n",
    "    \n",
    "    </button>`"
   ]
  },
  {
   "cell_type": "code",
   "execution_count": null,
   "metadata": {},
   "outputs": [],
   "source": [
    "drv.find_element(By.ID, \"login-username\").send_keys(usr)\n",
    "drv.find_element(By.ID, \"login-password\").send_keys(pwd)\n",
    "#drv.find_element(By.XPATH, value='//span[text()=\"Log In\"]').click()\n",
    "# login = drv.find_element(By.XPATH, value='//span[text()=\"Log In\"]')\n",
    "# drv.execute_script(\"arguments[0].click();\", login)\n",
    "#drv.find_element(By.XPATH, value='//@span[@class=\"flex items-center gap-xs\"]').click()"
   ]
  },
  {
   "cell_type": "markdown",
   "metadata": {},
   "source": [
    "<div slot=\"primaryButton\" class=\"w-100\">\n",
    "      <faceplate-tracker data-faceplate-tracking-context=\"{&quot;popup&quot;:{&quot;button_text&quot;:&quot;login&quot;}}\" source=\"onboarding\" action=\"click\" noun=\"login\">\n",
    "        <button rpl=\"\" class=\"login w-100\n",
    "button-large px-[length:var(--rem14)]\n",
    "button-brand\n",
    "\n",
    "\n",
    "\n",
    "button inline-flex items-center justify-center \" type=\"button\">\n",
    "      <span class=\"flex items-center justify-center\">\n",
    "      \n",
    "      <span class=\"flex items-center gap-xs\">Log In</span>\n",
    "    </span>\n",
    "    \n",
    "    \n",
    "    </button>\n",
    "      <!----></faceplate-tracker>\n",
    "    </div>"
   ]
  },
  {
   "cell_type": "markdown",
   "metadata": {},
   "source": [
    " <span class=\"flex items-center justify-center\">\n",
    "      \n",
    "  <span class=\"flex items-center gap-xs\">Log In</span>\n",
    "    </span>"
   ]
  },
  {
   "cell_type": "markdown",
   "metadata": {},
   "source": [
    "`<div slot=\"primaryButton\" class=\"w-100\">\n",
    "      <faceplate-tracker data-faceplate-tracking-context=\"{&quot;popup&quot;:{&quot;button_text&quot;:&quot;login&quot;}}\" source=\"onboarding\" action=\"click\" noun=\"login\">\n",
    "        <button rpl=\"\" class=\"login w-100\n",
    "button-large px-[length:var(--rem14)]\n",
    "button-brand\n",
    "\n",
    "\n",
    "\n",
    "button inline-flex items-center justify-center \" type=\"button\">\n",
    "      <span class=\"flex items-center justify-center\">\n",
    "      \n",
    "      <span class=\"flex items-center gap-xs\">Log In</span>\n",
    "    </span>\n",
    "    \n",
    "    \n",
    "    </button>\n",
    "      <!----></faceplate-tracker>\n",
    "    </div>`"
   ]
  },
  {
   "cell_type": "code",
   "execution_count": null,
   "metadata": {},
   "outputs": [],
   "source": [
    "drv.find_element(By.XPATH, value='//span[@class=\"flex items-center justify-center\"]')"
   ]
  }
 ],
 "metadata": {
  "kernelspec": {
   "display_name": "Python 3",
   "language": "python",
   "name": "python3"
  },
  "language_info": {
   "codemirror_mode": {
    "name": "ipython",
    "version": 3
   },
   "file_extension": ".py",
   "mimetype": "text/x-python",
   "name": "python",
   "nbconvert_exporter": "python",
   "pygments_lexer": "ipython3",
   "version": "3.11.0"
  }
 },
 "nbformat": 4,
 "nbformat_minor": 2
}
