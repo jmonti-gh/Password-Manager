{
 "cells": [
  {
   "cell_type": "markdown",
   "metadata": {},
   "source": [
    "# Seek Passphrase"
   ]
  },
  {
   "cell_type": "code",
   "execution_count": 17,
   "metadata": {},
   "outputs": [
    {
     "name": "stdout",
     "output_type": "stream",
     "text": [
      "0123456789abcdefghijklmnopqrstuvwxyzABCDEFGHIJKLMNOPQRSTUVWXYZ!\"#$%&'()*+,-./:;<=>?@[\\]^_`{|}~ \t\n",
      "\u000b\f <class 'str'>\n",
      "63 100\n",
      "0123456789abcdefghijklmnopqrstuvwxyzABCDEFGHIJKLMNOPQRSTUVWXYZ!#$%&'()*+,-./:;<=>?@[\\]^_`{|}~ \t\n",
      "\u000b\f <class 'str'>\n",
      "-1 99\n"
     ]
    }
   ],
   "source": [
    "import string\n",
    "ist = string.printable\n",
    "print(ist, type(ist))\n",
    "ix = ist.find('\"')\n",
    "print(ix, len(ist))\n",
    "ist = ist.replace('\"', '')\n",
    "print(ist, type(ist))\n",
    "ix = ist.find('\"')\n",
    "print(ix, len(ist))\n",
    "\n",
    "scrt = '3'\n",
    "guess = ''"
   ]
  },
  {
   "cell_type": "code",
   "execution_count": 18,
   "metadata": {},
   "outputs": [
    {
     "name": "stdout",
     "output_type": "stream",
     "text": [
      "3\n"
     ]
    }
   ],
   "source": [
    "for j in range(4):\n",
    "    for i in range(len(ist) - 1, -1, -1):\n",
    "        guess = ist[i]\n",
    "        if guess == scrt:\n",
    "            break\n",
    "\n",
    "\n",
    "print(guess) #, scrt)"
   ]
  },
  {
   "cell_type": "code",
   "execution_count": null,
   "metadata": {},
   "outputs": [],
   "source": []
  }
 ],
 "metadata": {
  "kernelspec": {
   "display_name": "Python 3",
   "language": "python",
   "name": "python3"
  },
  "language_info": {
   "codemirror_mode": {
    "name": "ipython",
    "version": 3
   },
   "file_extension": ".py",
   "mimetype": "text/x-python",
   "name": "python",
   "nbconvert_exporter": "python",
   "pygments_lexer": "ipython3",
   "version": "3.11.0"
  }
 },
 "nbformat": 4,
 "nbformat_minor": 2
}
