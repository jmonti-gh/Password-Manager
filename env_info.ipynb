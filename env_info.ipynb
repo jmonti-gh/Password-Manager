{
 "cells": [
  {
   "cell_type": "markdown",
   "metadata": {},
   "source": [
    "# Enviroment"
   ]
  },
  {
   "cell_type": "code",
   "execution_count": null,
   "metadata": {},
   "outputs": [],
   "source": [
    "import os\n",
    "import sys\n",
    "import platform\n",
    "#import env\n",
    "\n",
    "def whats(sntc):\n",
    "    try: \n",
    "        return f'''{sntc}: {(r := eval(sntc))} {type(r)}'''\n",
    "    except Exception as e:\n",
    "        return f'''{sntc}: {e}'''\n"
   ]
  },
  {
   "cell_type": "code",
   "execution_count": null,
   "metadata": {},
   "outputs": [],
   "source": [
    "### os\n",
    "\n",
    "# for k,v in os.__dict__.items():\n",
    "#     if isinstance(v, str):\n",
    "#         print(whats(f'os.{k}'))\n",
    "\n",
    "# for k,v in os.__dict__.items():\n",
    "#     print('-' * 60)\n",
    "#     #print(f'{k}: {v}')\n",
    "#     print(whats(f'os.{k}'))\n",
    "\n",
    "# for val in dir(os):\n",
    "#     print(whats(val))\n",
    "\n",
    "for dat in ('name', 'environ', 'getcwd()', 'fspath()', 'get_exec_path()', 'getlogin()',  'uname()',\n",
    "            'get_terminal_size()', 'listdir()', 'listdrives()', 'listvolumes()', 'lstat()', 'cpu_count()',\n",
    "            'defpath', 'path'):\n",
    "    print(whats(f'os.{dat}'))\n",
    "\n"
   ]
  },
  {
   "cell_type": "code",
   "execution_count": null,
   "metadata": {},
   "outputs": [],
   "source": [
    "### sys\n",
    "\n",
    "# for k,v in sys.__dict__.items():\n",
    "#     if isinstance(v, str):\n",
    "#         print('-' * 80)\n",
    "#         print(whats(f'sys.{k}'))\n",
    "\n",
    "# for k,v in sys.__dict__.items():\n",
    "#     print('-' * 60)\n",
    "#     #print(f'{k}: {v}')\n",
    "#     print(whats(f'sys.{k}'))\n",
    "\n",
    "# for val in dir(sys):\n",
    "#     print(whats(val))\n",
    "\n",
    "for dat in ('argv', 'orig_argv', 'builtin_modules_name', 'copyright', 'executable', 'getdefaultencoding()',\n",
    "            'getrecursionlimit()', 'getwindowsversion()', 'hexversion', 'implementation', 'maxsize',\n",
    "            'maxunicode', 'modules', 'path', 'platform', 'version', 'version_info', 'winver'):\n",
    "    print(whats(f'sys.{dat}'))"
   ]
  },
  {
   "cell_type": "code",
   "execution_count": 22,
   "metadata": {},
   "outputs": [
    {
     "name": "stdout",
     "output_type": "stream",
     "text": [
      "platform.architecture(): ('64bit', 'WindowsPE') <class 'tuple'>\n",
      "platform.machine(): AMD64 <class 'str'>\n",
      "platform.node(): mz240 <class 'str'>\n",
      "platform.platform(): Windows-10-10.0.19045-SP0 <class 'str'>\n",
      "platform.processor(): Intel64 Family 6 Model 42 Stepping 7, GenuineIntel <class 'str'>\n",
      "platform.python_build(): ('tags/v3.11.4:d2340ef', 'Jun  7 2023 05:45:37') <class 'tuple'>\n",
      "platform.python_compiler(): MSC v.1934 64 bit (AMD64) <class 'str'>\n",
      "platform.python_implementation(): CPython <class 'str'>\n",
      "platform.python_revision(): d2340ef <class 'str'>\n",
      "platform.python_version(): 3.11.4 <class 'str'>\n",
      "platform.python_version_tuple(): ('3', '11', '4') <class 'tuple'>\n",
      "platform.release(): 10 <class 'str'>\n",
      "platform.system(): Windows <class 'str'>\n",
      "platform.system_alias(): system_alias() missing 3 required positional arguments: 'system', 'release', and 'version'\n",
      "platform.version(): 10.0.19045 <class 'str'>\n",
      "platform.uname(): uname_result(system='Windows', node='mz240', release='10', version='10.0.19045', machine='AMD64') <class 'platform.uname_result'>\n",
      "platform.win32_ver(): ('10', '10.0.19045', 'SP0', 'Multiprocessor Free') <class 'tuple'>\n",
      "platform.win32_edition(): Professional <class 'str'>\n"
     ]
    }
   ],
   "source": [
    "### plattorm\n",
    "\n",
    "# for k,v in platform.__dict__.items():\n",
    "#     if isinstance(v, str):\n",
    "#         print('-' * 80)\n",
    "#         print(whats(f'platform.{k}'))\n",
    "\n",
    "# for k,v in platform.__dict__.items():\n",
    "#     print('-' * 60)\n",
    "#     #print(f'{k}: {v}')\n",
    "#     print(whats(f'platform.{k}'))\n",
    "\n",
    "# for val in dir(sys):\n",
    "#     print(whats(val))\n",
    "\n",
    "for dat in ('architecture()', 'machine()', 'node()', 'platform()', 'processor()', 'python_build()',\n",
    "            'python_compiler()', 'python_implementation()', 'python_revision()', 'python_version()',\n",
    "            'python_version_tuple()',  'release()', 'system()', 'system_alias()', 'version()',\n",
    "            'uname()', 'win32_ver()', 'win32_edition()'):\n",
    "    print(whats(f'platform.{dat}'))"
   ]
  },
  {
   "cell_type": "code",
   "execution_count": null,
   "metadata": {},
   "outputs": [],
   "source": []
  },
  {
   "cell_type": "code",
   "execution_count": null,
   "metadata": {},
   "outputs": [],
   "source": []
  }
 ],
 "metadata": {
  "kernelspec": {
   "display_name": "Python 3",
   "language": "python",
   "name": "python3"
  },
  "language_info": {
   "codemirror_mode": {
    "name": "ipython",
    "version": 3
   },
   "file_extension": ".py",
   "mimetype": "text/x-python",
   "name": "python",
   "nbconvert_exporter": "python",
   "pygments_lexer": "ipython3",
   "version": "3.11.4"
  }
 },
 "nbformat": 4,
 "nbformat_minor": 2
}
