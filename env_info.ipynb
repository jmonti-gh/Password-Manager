{
 "cells": [
  {
   "cell_type": "markdown",
   "metadata": {},
   "source": [
    "# Enviroment"
   ]
  },
  {
   "cell_type": "code",
   "execution_count": null,
   "metadata": {},
   "outputs": [],
   "source": [
    "import os\n",
    "import sys\n",
    "import platform\n",
    "#import env\n",
    "\n",
    "def whats(sntc):\n",
    "    try: \n",
    "        return f'''{sntc}: {(r := eval(sntc))} {type(r)}'''\n",
    "    except Exception as e:\n",
    "        return f'''{sntc}: {e}'''\n"
   ]
  },
  {
   "cell_type": "code",
   "execution_count": null,
   "metadata": {},
   "outputs": [],
   "source": [
    "### os\n",
    "\n",
    "# for k,v in os.__dict__.items():\n",
    "#     if isinstance(v, str):\n",
    "#         print(whats(f'os.{k}'))\n",
    "\n",
    "# for k,v in os.__dict__.items():\n",
    "#     print('-' * 60)\n",
    "#     #print(f'{k}: {v}')\n",
    "#     print(whats(f'os.{k}'))\n",
    "\n",
    "# for val in dir(os):\n",
    "#     print(whats(val))\n",
    "\n",
    "for dat in ('name', 'environ', 'getcwd()', 'fspath()', 'get_exec_path()', 'getlogin()',  'uname()',\n",
    "            'get_terminal_size()', 'listdir()', 'listdrives()', 'listvolumes()', 'lstat()', 'cpu_count()',\n",
    "            'defpath', 'path'):\n",
    "    print(whats(f'os.{dat}'))\n",
    "\n"
   ]
  },
  {
   "cell_type": "code",
   "execution_count": null,
   "metadata": {},
   "outputs": [],
   "source": [
    "### sys\n",
    "\n",
    "# for k,v in sys.__dict__.items():\n",
    "#     if isinstance(v, str):\n",
    "#         print('-' * 80)\n",
    "#         print(whats(f'sys.{k}'))\n",
    "\n",
    "# for k,v in sys.__dict__.items():\n",
    "#     print('-' * 60)\n",
    "#     #print(f'{k}: {v}')\n",
    "#     print(whats(f'sys.{k}'))\n",
    "\n",
    "# for val in dir(sys):\n",
    "#     print(whats(val))\n",
    "\n",
    "for dat in ('argv', 'orig_argv', 'builtin_modules_name', 'copyright', 'executable', 'getdefaultencoding()',\n",
    "            'getrecursionlimit()', 'getwindowsversion()', 'hexversion', 'implementation', 'maxsize',\n",
    "            'maxunicode', 'modules', 'path', 'platform', 'version', 'version_info', 'winver'):\n",
    "    print(whats(f'sys.{dat}'))"
   ]
  },
  {
   "cell_type": "code",
   "execution_count": null,
   "metadata": {},
   "outputs": [],
   "source": [
    "### plattorm\n",
    "\n",
    "# for k,v in platform.__dict__.items():\n",
    "#     if isinstance(v, str):\n",
    "#         print('-' * 80)\n",
    "#         print(whats(f'platform.{k}'))\n",
    "\n",
    "# for k,v in platform.__dict__.items():\n",
    "#     print('-' * 60)\n",
    "#     #print(f'{k}: {v}')\n",
    "#     print(whats(f'platform.{k}'))\n",
    "\n",
    "# for val in dir(sys):\n",
    "#     print(whats(val))\n",
    "\n",
    "for dat in ('architecture()', 'machine()', 'node()', 'platform()', 'processor()', 'python_build()',\n",
    "            'python_compiler()', 'python_implementation()', 'python_revision()', 'python_version()',\n",
    "            'python_version_tuple()',  'release()', 'system()', 'system_alias()', 'version()',\n",
    "            'uname()', 'win32_ver()', 'win32_edition()'):\n",
    "    print(whats(f'platform.{dat}'))"
   ]
  },
  {
   "cell_type": "code",
   "execution_count": null,
   "metadata": {},
   "outputs": [],
   "source": []
  },
  {
   "cell_type": "code",
   "execution_count": null,
   "metadata": {},
   "outputs": [],
   "source": []
  }
 ],
 "metadata": {
  "kernelspec": {
   "display_name": "Python 3",
   "language": "python",
   "name": "python3"
  },
  "language_info": {
   "codemirror_mode": {
    "name": "ipython",
    "version": 3
   },
   "file_extension": ".py",
   "mimetype": "text/x-python",
   "name": "python",
   "nbconvert_exporter": "python",
   "pygments_lexer": "ipython3",
   "version": "3.11.4"
  }
 },
 "nbformat": 4,
 "nbformat_minor": 2
}
